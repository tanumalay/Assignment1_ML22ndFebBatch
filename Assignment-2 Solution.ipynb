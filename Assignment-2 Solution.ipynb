{
 "cells": [
  {
   "cell_type": "markdown",
   "metadata": {},
   "source": [
    "# Assignment-2 solution:"
   ]
  },
  {
   "cell_type": "markdown",
   "metadata": {},
   "source": [
    "# Task1"
   ]
  },
  {
   "cell_type": "markdown",
   "metadata": {},
   "source": [
    "# 1.1. \n",
    "Write a Python Program to implement your own myreduce() function which works exactly like\n",
    "Python's built-in function reduce()"
   ]
  },
  {
   "cell_type": "code",
   "execution_count": 27,
   "metadata": {},
   "outputs": [
    {
     "name": "stdout",
     "output_type": "stream",
     "text": [
      "****** Below results are calculated from custom myreduce() function*****\n",
      "input array is: [2, 3, 4]\n",
      "\n",
      "1.Addition results \n",
      "= 9 \n",
      "\n",
      "2.Division results \n",
      "= 0.16666666666666666 \n",
      "\n",
      "3.Comparision operator '>' greaterthan result \n",
      "= False \n",
      "\n",
      "4.Result of lambda function to get the Exponential value \n",
      "= 4096 \n",
      "\n"
     ]
    }
   ],
   "source": [
    "def addition(x,y):\n",
    "    return x+y\n",
    "\n",
    "def division(x,y):\n",
    "    return x/y\n",
    "\n",
    "def greaterThan(x, y):\n",
    "    return x > y\n",
    "\n",
    "def myreduce(f = None, array=None):\n",
    "    '''custom myreduce function'''\n",
    "    # keep the first element of array in the accumulator\n",
    "    accumulator = array[0]\n",
    "    # iterate over the array to accumulate the result in accumulator\n",
    "    for i in array[1:]:\n",
    "        accumulator = f(accumulator, i)\n",
    "    # returning the accumulated result\n",
    "    return accumulator\n",
    "\n",
    "# test array \n",
    "arr = [2,3,4]\n",
    "add_result = myreduce(f = addition, array=arr)\n",
    "print(\"****** Below results are calculated from custom myreduce() function*****\")\n",
    "print(\"input array is:\", arr)\n",
    "print(f\"\\n1.Addition results \\n= {add_result}\", \"\\n\")\n",
    "\n",
    "div_result = myreduce(f = division, array=arr)\n",
    "print(f\"2.Division results \\n= {div_result}\", \"\\n\")\n",
    "\n",
    "greater_than_result = myreduce(f = greaterThan, array=arr)\n",
    "print(f\"3.Comparision operator '>' greaterthan result \\n= {greater_than_result}\", \"\\n\")\n",
    "\n",
    "using_lambda_function = myreduce( f = lambda x, y: x**y, array=arr)\n",
    "print(f\"4.Result of lambda function to get the Exponential value \\n= {using_lambda_function}\", \"\\n\")"
   ]
  },
  {
   "cell_type": "code",
   "execution_count": 9,
   "metadata": {},
   "outputs": [
    {
     "name": "stdout",
     "output_type": "stream",
     "text": [
      "****************************************************************************************************\n"
     ]
    }
   ],
   "source": [
    "print(\"*\"*100)"
   ]
  },
  {
   "cell_type": "markdown",
   "metadata": {},
   "source": [
    "# 1.2. \n",
    "Write a Python program to implement your own myfilter() function which works exactly like\n",
    "Python's built-in function filter()"
   ]
  },
  {
   "cell_type": "code",
   "execution_count": 15,
   "metadata": {},
   "outputs": [
    {
     "name": "stdout",
     "output_type": "stream",
     "text": [
      "filtering odd nos\n",
      "=[1, 3, 5, 7, 9]\n",
      "\n",
      "filtering even result\n",
      "=[2, 4, 6, 8, 0]\n",
      "\n",
      "filtering vowels result\n",
      "=['E', 'o', 'A']\n",
      "\n"
     ]
    }
   ],
   "source": [
    "def is_odd_no(x):\n",
    "    return x%2!=0\n",
    "\n",
    "def is_even_no(x):\n",
    "    return x%2==0\n",
    "\n",
    "def is_vowel(x):\n",
    "    vowel = ['a', 'e', 'i', 'o', 'u']\n",
    "    if x in vowel or x.lower() in vowel:\n",
    "        return True\n",
    "    else:\n",
    "        return False\n",
    "\n",
    "def myFilter(f = None, array = None):\n",
    "    '''custom filter function'''\n",
    "    # init empty array for results\n",
    "    results = []\n",
    "\n",
    "    # iterate over input array for filtering \n",
    "    for i in array:\n",
    "        if f(i):\n",
    "            results.append(i)\n",
    "    return results\n",
    "\n",
    "arr = [1,2,3,4,5,6,7,8,9,0]\n",
    "odd_result = myFilter(f = is_odd_no, array = arr)\n",
    "print(f\"filtering odd nos\\n={odd_result}\\n\")\n",
    "\n",
    "even_result = myFilter(f = is_even_no, array = arr)\n",
    "print(f\"filtering even result\\n={even_result}\\n\")\n",
    "\n",
    "alphaArray = list(\"hEllo jAck\")\n",
    "alpha_result = myFilter(f = is_vowel, array = alphaArray)\n",
    "print(f\"filtering vowels result\\n={alpha_result}\\n\")"
   ]
  },
  {
   "cell_type": "code",
   "execution_count": 10,
   "metadata": {},
   "outputs": [
    {
     "name": "stdout",
     "output_type": "stream",
     "text": [
      "****************************************************************************************************\n"
     ]
    }
   ],
   "source": [
    "print(\"*\"*100)"
   ]
  },
  {
   "cell_type": "markdown",
   "metadata": {},
   "source": [
    "---\n",
    "# 2. \n",
    "Implement List comprehensions to produce the following lists. Write List comprehensions to produce the following Lists\n",
    "   \n",
    "    ['A', 'C', 'A', 'D', 'G', 'I', ’L’, ‘ D’]\n",
    "   \n",
    "    ['x', 'xx', 'xxx', 'xxxx', 'y', 'yy', 'yyy', 'yyyy', 'z', 'zz', 'zzz', 'zzzz']\n",
    "\n",
    "    ['x', 'y', 'z', 'xx', 'yy', 'zz', 'xxx', 'yyy', 'zzz', 'xxxx', 'yyyy', 'zzzz']\n",
    "    \n",
    "    [[2], [3], [4], [3], [4], [5], [4], [5], [6]]\n",
    "\n",
    "    [[2, 3, 4, 5], [3, 4, 5, 6], [4, 5, 6, 7], [5, 6, 7, 8]]\n",
    "\n",
    "    [(1, 1), (2, 1), (3, 1), (1, 2), (2, 2), (3, 2), (1, 3), (2, 3), (3, 3)]"
   ]
  },
  {
   "cell_type": "code",
   "execution_count": 2,
   "metadata": {},
   "outputs": [
    {
     "name": "stdout",
     "output_type": "stream",
     "text": [
      "Program to accept the user's first and last name and then getting them printed in the the reverse order. \n",
      "\n",
      "Please enter the First Name: Michael\n",
      "Please enter the Last Name: Jackson\n",
      "The name in reverse order is:  Jackson Michael\n"
     ]
    }
   ],
   "source": [
    "print(\"Program to accept the user's first and last name and then getting them printed in the the reverse order. \\n\")\n",
    "First_name = input(\"Please enter the First Name: \")\n",
    "Last_name = input(\"Please enter the Last Name: \")\n",
    "print(\"The name in reverse order is: \", Last_name +\" \"+First_name)"
   ]
  },
  {
   "cell_type": "code",
   "execution_count": 1,
   "metadata": {},
   "outputs": [
    {
     "name": "stdout",
     "output_type": "stream",
     "text": [
      "****************************************************************************************************\n"
     ]
    }
   ],
   "source": [
    "print(\"*\"*100)"
   ]
  },
  {
   "cell_type": "markdown",
   "metadata": {},
   "source": [
    "# Task2"
   ]
  },
  {
   "cell_type": "markdown",
   "metadata": {},
   "source": [
    "# 1.1 \n",
    "Write a Python Program(with class concepts) to find the area of the triangle using the below\n",
    "formula.\n",
    "area = (s*(s-a)*(s-b)*(s-c)) ** 0.5\n",
    "Function to take the length of the sides of triangle from user should be defined in the parent\n",
    "class and function to calculate the area should be defined in subclass."
   ]
  },
  {
   "cell_type": "code",
   "execution_count": 39,
   "metadata": {},
   "outputs": [
    {
     "name": "stdout",
     "output_type": "stream",
     "text": [
      "Length of the sides of the traingle are: 3 4 5\n",
      "Area of the triangle is:  6.0 unit²\n"
     ]
    }
   ],
   "source": [
    "class Traingle_Dimensions:\n",
    "    '''Class to define sides of a triangle'''\n",
    "    def __init__(self, sideA, sideB, sideC):\n",
    "        self.a = sideA\n",
    "        self.b = sideB\n",
    "        self.c = sideC\n",
    "\n",
    "    def semiperimeter(self):\n",
    "        # calculate semi perimeter\n",
    "        s = (self.a + self.b + self.c)/2\n",
    "        return s\n",
    "\n",
    "class Area(Traingle_Dimensions):\n",
    "    '''\n",
    "    Class to calculate the area of triangle\n",
    "    based on given Formula  who's side are defined in Traingle_Dimensions class above\n",
    "    '''\n",
    "    def __init__(self, *args):\n",
    "         super().__init__(*args)\n",
    "\n",
    "    def calculate_area(self):\n",
    "        # get the semi perimeter from Traingle_Dimensions parent class\n",
    "        s = super().semiperimeter()\n",
    "        # calculating area\n",
    "        area = (s*(s-self.a)*(s-self.b)*(s-self.c)) ** 0.5\n",
    "        print(\"Length of the sides of the traingle are:\", self.a, self.b, self.c )\n",
    "        print(f\"Area of the triangle is:  {area} unit\\u00b2\")\n",
    "        return area\n",
    "\n",
    "area = Area(3,4,5)\n",
    "_ = area.calculate_area()"
   ]
  },
  {
   "cell_type": "code",
   "execution_count": 7,
   "metadata": {},
   "outputs": [
    {
     "name": "stdout",
     "output_type": "stream",
     "text": [
      "****************************************************************************************************\n"
     ]
    }
   ],
   "source": [
    "print(\"*\"*100)"
   ]
  },
  {
   "cell_type": "markdown",
   "metadata": {},
   "source": [
    "# 1.2 \n",
    "Write a function filter_long_words() that takes a list of words and an integer n and returns the list\n",
    "of words that are longer than n."
   ]
  },
  {
   "cell_type": "code",
   "execution_count": 8,
   "metadata": {},
   "outputs": [
    {
     "name": "stdout",
     "output_type": "stream",
     "text": [
      "longest words are = \n",
      "['Superman', 'artificial_intelligence', 'self-made', 'enthusiasts']\n"
     ]
    }
   ],
   "source": [
    "def filter_long_words(N=None, array = None):\n",
    "    results = [] # init empty array for results\n",
    "    for i in array:\n",
    "        if len(i) > N:\n",
    "            results.append(i)\n",
    "    return results\n",
    "\n",
    "arr = [\"I\", \"am\", \"Superman\", \"and I\", \"am\", \"an\", \"artificial_intelligence\", \"self-made\",\"enthusiasts\" ]\n",
    "n = 5\n",
    "result = filter_long_words(N = n, array = arr)\n",
    "print(f\"longest words are = \\n{result}\")"
   ]
  },
  {
   "cell_type": "code",
   "execution_count": 14,
   "metadata": {},
   "outputs": [
    {
     "name": "stdout",
     "output_type": "stream",
     "text": [
      "****************************************************************************************************\n"
     ]
    }
   ],
   "source": [
    "print(\"*\"*100)"
   ]
  },
  {
   "cell_type": "markdown",
   "metadata": {},
   "source": [
    "# 2.1 \n",
    "Write a Python program using function concept that maps list of words into a list of integers\n",
    "representing the lengths of the corresponding words .\n",
    "\n",
    "Hint: If a list [ ab,cde,erty] is passed on to the python function output should come as [2,3,4]\n",
    "Here 2,3 and 4 are the lengths of the words in the list."
   ]
  },
  {
   "cell_type": "code",
   "execution_count": 9,
   "metadata": {},
   "outputs": [
    {
     "name": "stdout",
     "output_type": "stream",
     "text": [
      "output = [2, 3, 4]\n",
      "\n"
     ]
    }
   ],
   "source": [
    "def get_length_of_words(array=None):\n",
    "    return [len(word) for word in array]\n",
    "\n",
    "arr = [ \"ab\", \"cde\", \"erty\"]\n",
    "result = get_length_of_words(arr)\n",
    "print(f\"output = {result}\\n\")"
   ]
  },
  {
   "cell_type": "code",
   "execution_count": 15,
   "metadata": {},
   "outputs": [
    {
     "name": "stdout",
     "output_type": "stream",
     "text": [
      "****************************************************************************************************\n"
     ]
    }
   ],
   "source": [
    "print(\"*\"*100)"
   ]
  },
  {
   "cell_type": "markdown",
   "metadata": {},
   "source": [
    "# 2.2\n",
    "Write a Python function which takes a character (i.e. a string of length 1) and returns True if it is\n",
    "a vowel, False otherwise."
   ]
  },
  {
   "cell_type": "code",
   "execution_count": 41,
   "metadata": {},
   "outputs": [
    {
     "name": "stdout",
     "output_type": "stream",
     "text": [
      "I is a Vowel.\n",
      "\n",
      "\n",
      "h is NOT a Vowel.\n"
     ]
    }
   ],
   "source": [
    "def vowel_check(x):\n",
    "    vowel = ['a', 'e', 'i', 'o', 'u']\n",
    "    if x in vowel or x.lower() in vowel:\n",
    "        print(x +\" is a Vowel.\")\n",
    "    else:\n",
    "        print(x +\" is NOT a Vowel.\")\n",
    "\n",
    "#input_lettter = input(\"Enter a letter:\")\n",
    "#vowel_check(input_lettter)\n",
    "x = 'I'\n",
    "y = 'h'\n",
    "vowel_check(x)\n",
    "print(\"\\n\")\n",
    "vowel_check(y)"
   ]
  },
  {
   "cell_type": "code",
   "execution_count": 16,
   "metadata": {},
   "outputs": [
    {
     "name": "stdout",
     "output_type": "stream",
     "text": [
      "****************************************************************************************************\n"
     ]
    }
   ],
   "source": [
    "print(\"*\"*100)"
   ]
  },
  {
   "cell_type": "markdown",
   "metadata": {},
   "source": [
    "# End of Assignment2"
   ]
  },
  {
   "cell_type": "code",
   "execution_count": null,
   "metadata": {},
   "outputs": [],
   "source": []
  }
 ],
 "metadata": {
  "kernelspec": {
   "display_name": "Python 3",
   "language": "python",
   "name": "python3"
  },
  "language_info": {
   "codemirror_mode": {
    "name": "ipython",
    "version": 3
   },
   "file_extension": ".py",
   "mimetype": "text/x-python",
   "name": "python",
   "nbconvert_exporter": "python",
   "pygments_lexer": "ipython3",
   "version": "3.7.3"
  }
 },
 "nbformat": 4,
 "nbformat_minor": 2
}
